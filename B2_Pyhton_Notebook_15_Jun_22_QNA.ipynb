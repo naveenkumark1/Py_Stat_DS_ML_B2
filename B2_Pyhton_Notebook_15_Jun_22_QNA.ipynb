{
 "cells": [
  {
   "cell_type": "code",
   "execution_count": 14,
   "id": "7c0435be",
   "metadata": {},
   "outputs": [
    {
     "data": {
      "text/plain": [
       "range(0, 20)"
      ]
     },
     "execution_count": 14,
     "metadata": {},
     "output_type": "execute_result"
    }
   ],
   "source": [
    "## Float number in range \n",
    "\n",
    "range(0,20,1)"
   ]
  },
  {
   "cell_type": "code",
   "execution_count": 4,
   "id": "a3360088",
   "metadata": {},
   "outputs": [],
   "source": [
    "def compundinterest(p,r,t):\n",
    "    A = p*(pow((1+r/100),t))\n",
    "    CI = A - p\n",
    "    print(CI)"
   ]
  },
  {
   "cell_type": "code",
   "execution_count": 11,
   "id": "bea18d88",
   "metadata": {},
   "outputs": [
    {
     "name": "stdout",
     "output_type": "stream",
     "text": [
      "10500.0\n",
      "22102.5\n",
      "34923.26249999998\n",
      "49090.2050625\n",
      "64744.676594062475\n",
      "82042.86763643904\n",
      "101157.36873826516\n",
      "122278.89245578297\n",
      "145618.1761636402\n",
      "171408.0846608224\n"
     ]
    }
   ],
   "source": [
    "for i in [1,2,3,4,5,6,7,8,9,10]:\n",
    "    compundinterest(100000,10.5,i) "
   ]
  },
  {
   "cell_type": "code",
   "execution_count": 19,
   "id": "aabb532d",
   "metadata": {},
   "outputs": [
    {
     "name": "stdout",
     "output_type": "stream",
     "text": [
      "[1, 2, 3, 4, 5, 6, 7, 8, 9]\n",
      "[9, 5, 4, 3, 7, 6, 8, 1, 2]\n",
      "None\n",
      "[1, 2, 3, 4, 5, 6, 7, 8, 9]\n"
     ]
    }
   ],
   "source": [
    "lst = [9,5,4,3,7,6,8,1,2]\n",
    "\n",
    "print(sorted(lst))\n",
    "print(lst)\n",
    "\n",
    "print(lst.sort())\n",
    "print(lst)\n"
   ]
  }
 ],
 "metadata": {
  "kernelspec": {
   "display_name": "Python 3 (ipykernel)",
   "language": "python",
   "name": "python3"
  },
  "language_info": {
   "codemirror_mode": {
    "name": "ipython",
    "version": 3
   },
   "file_extension": ".py",
   "mimetype": "text/x-python",
   "name": "python",
   "nbconvert_exporter": "python",
   "pygments_lexer": "ipython3",
   "version": "3.9.12"
  }
 },
 "nbformat": 4,
 "nbformat_minor": 5
}
