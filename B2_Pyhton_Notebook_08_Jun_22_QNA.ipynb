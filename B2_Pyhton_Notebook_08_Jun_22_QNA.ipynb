{
 "cells": [
  {
   "cell_type": "code",
   "execution_count": null,
   "id": "98a23b38",
   "metadata": {},
   "outputs": [],
   "source": [
    "25. Write a Python program to check whether a specified value is contained in a group of values. Go to the editor\n",
    "Test Data :\n",
    "3 -> [1, 5, 8, 3] : True\n",
    "-1 -> [1, 5, 8, 3] : False"
   ]
  },
  {
   "cell_type": "code",
   "execution_count": 9,
   "id": "666ecd9f",
   "metadata": {},
   "outputs": [
    {
     "data": {
      "text/plain": [
       "False"
      ]
     },
     "execution_count": 9,
     "metadata": {},
     "output_type": "execute_result"
    }
   ],
   "source": [
    "a = [1,5,8,3]\n",
    "\n",
    "-1 in a"
   ]
  },
  {
   "cell_type": "code",
   "execution_count": 1,
   "id": "5d237695",
   "metadata": {},
   "outputs": [
    {
     "data": {
      "text/plain": [
       "'we\\nwe\\nwe\\nwe\\nwe\\nwe\\nwe\\new\\new'"
      ]
     },
     "execution_count": 1,
     "metadata": {},
     "output_type": "execute_result"
    }
   ],
   "source": [
    "# Multiple commenting \n",
    "\n",
    "# Line 1\n",
    "# Line 2 \n",
    "# 3\n",
    "\n",
    "'''we\n",
    "we\n",
    "we\n",
    "we\n",
    "we\n",
    "we\n",
    "we\n",
    "ew\n",
    "ew'''"
   ]
  },
  {
   "cell_type": "code",
   "execution_count": 4,
   "id": "92f5c174",
   "metadata": {},
   "outputs": [],
   "source": [
    "\n",
    "## comment"
   ]
  },
  {
   "cell_type": "code",
   "execution_count": 7,
   "id": "21fd112d",
   "metadata": {},
   "outputs": [
    {
     "name": "stdout",
     "output_type": "stream",
     "text": [
      "2\n",
      "2\n"
     ]
    }
   ],
   "source": [
    "print(2*1)\n",
    "\"\"\"\n",
    "Multi line coment\n",
    "Multi line coment\n",
    "Multi line coment\n",
    "\"\"\"\n",
    "print(2*1)"
   ]
  },
  {
   "cell_type": "code",
   "execution_count": 16,
   "id": "a91a8472",
   "metadata": {},
   "outputs": [
    {
     "name": "stdout",
     "output_type": "stream",
     "text": [
      "twinke twinkle little star\n",
      "\ttwinke twinkle little star\n"
     ]
    }
   ],
   "source": [
    "print(\"twinke twinkle little star\\n\\ttwinke twinkle little star\")"
   ]
  },
  {
   "cell_type": "code",
   "execution_count": 29,
   "id": "d4b1b5eb",
   "metadata": {},
   "outputs": [
    {
     "name": "stdout",
     "output_type": "stream",
     "text": [
      "dict_keys(['A', 'B', 'C'])\n",
      "dict_values([1, 2, 3])\n"
     ]
    }
   ],
   "source": [
    "d = {'A':1,'B':2,\"C\":3}\n",
    "\n",
    "e = {'a':1,'b':2,\"c\":3}\n",
    "\n",
    "print(d.keys())\n",
    "print(d.values())"
   ]
  },
  {
   "cell_type": "code",
   "execution_count": 25,
   "id": "5c1a4387",
   "metadata": {},
   "outputs": [
    {
     "data": {
      "text/plain": [
       "3"
      ]
     },
     "execution_count": 25,
     "metadata": {},
     "output_type": "execute_result"
    }
   ],
   "source": [
    "d[\"C\"]"
   ]
  },
  {
   "cell_type": "code",
   "execution_count": 30,
   "id": "62d33dfa",
   "metadata": {},
   "outputs": [
    {
     "data": {
      "text/plain": [
       "{'A': 1, 'B': 2, 'C': 3, 'a': 1, 'b': 2, 'c': 3}"
      ]
     },
     "execution_count": 30,
     "metadata": {},
     "output_type": "execute_result"
    }
   ],
   "source": [
    "d.update(e)\n",
    "d"
   ]
  }
 ],
 "metadata": {
  "kernelspec": {
   "display_name": "Python 3 (ipykernel)",
   "language": "python",
   "name": "python3"
  },
  "language_info": {
   "codemirror_mode": {
    "name": "ipython",
    "version": 3
   },
   "file_extension": ".py",
   "mimetype": "text/x-python",
   "name": "python",
   "nbconvert_exporter": "python",
   "pygments_lexer": "ipython3",
   "version": "3.9.12"
  }
 },
 "nbformat": 4,
 "nbformat_minor": 5
}
