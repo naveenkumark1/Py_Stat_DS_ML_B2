{
 "cells": [
  {
   "cell_type": "code",
   "execution_count": null,
   "id": "98bef794",
   "metadata": {},
   "outputs": [],
   "source": [
    "## map, reduce and filter \n",
    "\n",
    "## Higher order funciton "
   ]
  },
  {
   "cell_type": "code",
   "execution_count": 18,
   "id": "264fabe1",
   "metadata": {},
   "outputs": [],
   "source": [
    "# map \n",
    "\n",
    "def mul(a):\n",
    "    return(a*100)"
   ]
  },
  {
   "cell_type": "code",
   "execution_count": 20,
   "id": "d508f0e7",
   "metadata": {},
   "outputs": [
    {
     "name": "stdout",
     "output_type": "stream",
     "text": [
      "<map object at 0x0000022E59AB4880>\n",
      "{4000, 1000, 5000, 2000, 3000}\n"
     ]
    }
   ],
   "source": [
    "x = map(mul,(10,20,30,40,50))\n",
    "print(x)\n",
    "print(set(x))"
   ]
  },
  {
   "cell_type": "code",
   "execution_count": 4,
   "id": "b1285046",
   "metadata": {},
   "outputs": [],
   "source": [
    "# Filter \n",
    "\n",
    "def function(x):\n",
    "    if x>=5:\n",
    "        return x"
   ]
  },
  {
   "cell_type": "code",
   "execution_count": 21,
   "id": "c6928304",
   "metadata": {},
   "outputs": [
    {
     "name": "stdout",
     "output_type": "stream",
     "text": [
      "<filter object at 0x0000022E59AB4E50>\n",
      "[5, 6, 7, 8]\n"
     ]
    }
   ],
   "source": [
    "a = filter(function, (1,2,3,4,5,6,7,8))\n",
    "print(a)\n",
    "print(list(a))"
   ]
  },
  {
   "cell_type": "code",
   "execution_count": null,
   "id": "20fb0d1c",
   "metadata": {},
   "outputs": [],
   "source": [
    "MALAYALAM"
   ]
  },
  {
   "cell_type": "code",
   "execution_count": null,
   "id": "2fb1a56b",
   "metadata": {},
   "outputs": [],
   "source": [
    "MALAYALAM"
   ]
  },
  {
   "cell_type": "code",
   "execution_count": null,
   "id": "f72091d9",
   "metadata": {},
   "outputs": [],
   "source": []
  },
  {
   "cell_type": "code",
   "execution_count": null,
   "id": "dfe45d64",
   "metadata": {},
   "outputs": [],
   "source": []
  },
  {
   "cell_type": "code",
   "execution_count": null,
   "id": "60d90329",
   "metadata": {},
   "outputs": [],
   "source": []
  },
  {
   "cell_type": "code",
   "execution_count": null,
   "id": "2b2967fe",
   "metadata": {},
   "outputs": [],
   "source": []
  },
  {
   "cell_type": "code",
   "execution_count": null,
   "id": "fd6990e2",
   "metadata": {},
   "outputs": [],
   "source": []
  }
 ],
 "metadata": {
  "kernelspec": {
   "display_name": "Python 3 (ipykernel)",
   "language": "python",
   "name": "python3"
  },
  "language_info": {
   "codemirror_mode": {
    "name": "ipython",
    "version": 3
   },
   "file_extension": ".py",
   "mimetype": "text/x-python",
   "name": "python",
   "nbconvert_exporter": "python",
   "pygments_lexer": "ipython3",
   "version": "3.9.12"
  }
 },
 "nbformat": 4,
 "nbformat_minor": 5
}
