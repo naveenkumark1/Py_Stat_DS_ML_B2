{
 "cells": [
  {
   "cell_type": "markdown",
   "metadata": {
    "id": "oymYbj4b0Bp3"
   },
   "source": [
    "#Clustering\n",
    "\n",
    "###Demo 2: Implementing K-Means Clustering "
   ]
  },
  {
   "cell_type": "markdown",
   "metadata": {
    "id": "LCikRVBe0Bqh"
   },
   "source": [
    "### Step 1: Import required libraries"
   ]
  },
  {
   "cell_type": "code",
   "execution_count": null,
   "metadata": {
    "id": "cWILUfhN0Bqp"
   },
   "outputs": [],
   "source": [
    "import pandas as pd\n",
    "import numpy as np\n",
    "import matplotlib.pyplot as plt"
   ]
  },
  {
   "cell_type": "code",
   "execution_count": null,
   "metadata": {
    "id": "2mWKsFgT0Bq9"
   },
   "outputs": [],
   "source": [
    "#Standard properties for graphs\n",
    "plt.rcParams['font.size']= 14\n",
    "plt.rcParams['lines.markersize']=7\n",
    "plt.rcParams['axes.grid']=True\n",
    "plt.rcParams['axes.labelsize']=16\n",
    "plt.rcParams['figure.figsize']=(5,5)"
   ]
  },
  {
   "cell_type": "markdown",
   "metadata": {
    "id": "GMjTKDgV0BrE"
   },
   "source": [
    "### Step 2: Create dataset"
   ]
  },
  {
   "cell_type": "code",
   "execution_count": 26,
   "metadata": {
    "colab": {
     "base_uri": "https://localhost:8080/",
     "height": 206
    },
    "id": "z0ePTrH90BrI",
    "outputId": "9d19641c-9926-4c14-e26b-616ee137c1c9"
   },
   "outputs": [
    {
     "data": {
      "text/html": [
       "<div>\n",
       "<style scoped>\n",
       "    .dataframe tbody tr th:only-of-type {\n",
       "        vertical-align: middle;\n",
       "    }\n",
       "\n",
       "    .dataframe tbody tr th {\n",
       "        vertical-align: top;\n",
       "    }\n",
       "\n",
       "    .dataframe thead th {\n",
       "        text-align: right;\n",
       "    }\n",
       "</style>\n",
       "<table border=\"1\" class=\"dataframe\">\n",
       "  <thead>\n",
       "    <tr style=\"text-align: right;\">\n",
       "      <th></th>\n",
       "      <th>Num_flights</th>\n",
       "      <th>Avg_fare</th>\n",
       "    </tr>\n",
       "  </thead>\n",
       "  <tbody>\n",
       "    <tr>\n",
       "      <th>0</th>\n",
       "      <td>12</td>\n",
       "      <td>39</td>\n",
       "    </tr>\n",
       "    <tr>\n",
       "      <th>1</th>\n",
       "      <td>20</td>\n",
       "      <td>36</td>\n",
       "    </tr>\n",
       "    <tr>\n",
       "      <th>2</th>\n",
       "      <td>28</td>\n",
       "      <td>30</td>\n",
       "    </tr>\n",
       "    <tr>\n",
       "      <th>3</th>\n",
       "      <td>18</td>\n",
       "      <td>52</td>\n",
       "    </tr>\n",
       "    <tr>\n",
       "      <th>4</th>\n",
       "      <td>29</td>\n",
       "      <td>54</td>\n",
       "    </tr>\n",
       "  </tbody>\n",
       "</table>\n",
       "</div>"
      ],
      "text/plain": [
       "   Num_flights  Avg_fare\n",
       "0           12        39\n",
       "1           20        36\n",
       "2           28        30\n",
       "3           18        52\n",
       "4           29        54"
      ]
     },
     "execution_count": 26,
     "metadata": {},
     "output_type": "execute_result"
    }
   ],
   "source": [
    "#Here we have created the dataset in which there are number of flights taken by customer and average fare \n",
    "df=pd.DataFrame({\n",
    "                'Num_flights': [12, 20, 28, 18, 29, 33, 24, 45, 45, 52, 51, 52, 55, 53, 55, 61, 64, 69, 72], \n",
    "                 'Avg_fare': [39, 36, 30, 52, 54, 46, 55, 59, 63, 70, 66, 63, 58, 23, 14, 8, 19, 7, 24]})\n",
    "df=df[['Num_flights','Avg_fare']]\n",
    "df.head()"
   ]
  },
  {
   "cell_type": "markdown",
   "metadata": {
    "id": "zhSUIBrT0BrS"
   },
   "source": [
    "### Step 3: Choose centroid randomly"
   ]
  },
  {
   "cell_type": "code",
   "execution_count": 27,
   "metadata": {
    "colab": {
     "base_uri": "https://localhost:8080/"
    },
    "id": "gb6D7HFg0BrY",
    "outputId": "aafa327a-bc97-4564-a978-cd0cefb10213"
   },
   "outputs": [
    {
     "data": {
      "text/plain": [
       "{1: [26, 16], 2: [68, 42], 3: [55, 76]}"
      ]
     },
     "execution_count": 27,
     "metadata": {},
     "output_type": "execute_result"
    }
   ],
   "source": [
    "#Here we have generated random centre points for 3 clusters\n",
    "np.random.seed(200)\n",
    "k = 3\n",
    "centroids={i+1: [np.random.randint(0,80),np.random.randint(0,80)]\n",
    "    for i in range(k)}\n",
    "centroids"
   ]
  },
  {
   "cell_type": "markdown",
   "metadata": {
    "id": "JXpc7gYU0Bre"
   },
   "source": [
    "### Step 4: Plot the graph"
   ]
  },
  {
   "cell_type": "code",
   "execution_count": 28,
   "metadata": {
    "colab": {
     "base_uri": "https://localhost:8080/",
     "height": 349
    },
    "id": "TQjN3kLt0Brk",
    "outputId": "f934d896-1084-4a16-8cfe-9bf9ba157c96"
   },
   "outputs": [
    {
     "data": {
      "image/png": "[encoded data removed]",
      "text/plain": [
       "<Figure size 360x360 with 1 Axes>"
      ]
     },
     "metadata": {
      "needs_background": "light"
     },
     "output_type": "display_data"
    }
   ],
   "source": [
    "plt.scatter(df['Num_flights'],df['Avg_fare'],color = 'k')\n",
    "colmap = {1: 'r' , 2: 'g', 3: 'b'}\n",
    "for i in centroids.keys():\n",
    "    plt.scatter(centroids[i][0], centroids[i][1], color = colmap[i], marker='*')\n",
    "plt.xlabel('Num_flights')\n",
    "plt.ylabel('Avg_fare')\n",
    "plt.xlim(0,80)\n",
    "plt.ylim(0,80)\n",
    "plt.show()"
   ]
  },
  {
   "cell_type": "markdown",
   "metadata": {
    "id": "URo6keVc0Brq"
   },
   "source": [
    "### Step 5: Calculate the distance & assign the cluster"
   ]
  },
  {
   "cell_type": "code",
   "execution_count": 29,
   "metadata": {
    "id": "WEyVricE0Brt"
   },
   "outputs": [],
   "source": [
    "def assignment(df, centroids):\n",
    "    for i in centroids.keys():\n",
    "        df['distance_from_{}'.format(i)]= (\n",
    "            np.sqrt((df['Num_flights']-centroids[i][0])**2 + (df['Avg_fare'] - centroids[i][1])**2))\n",
    "    centroid_distance_cols = ['distance_from_{}'.format(i) for i in centroids.keys()]\n",
    "    df['closest']= df.loc[:, centroid_distance_cols].idxmin(axis=1)\n",
    "    df['closest']= df['closest'].map(lambda x: int(x.lstrip('distance_from_')))\n",
    "    df['color']=df['closest'].map(lambda x: colmap[x])\n",
    "    return df"
   ]
  },
  {
   "cell_type": "code",
   "execution_count": 30,
   "metadata": {
    "colab": {
     "base_uri": "https://localhost:8080/",
     "height": 206
    },
    "id": "7X-vs_G_0Bry",
    "outputId": "528ae362-805a-4ef3-b545-91388d0df4ce"
   },
   "outputs": [
    {
     "data": {
      "text/html": [
       "<div>\n",
       "<style scoped>\n",
       "    .dataframe tbody tr th:only-of-type {\n",
       "        vertical-align: middle;\n",
       "    }\n",
       "\n",
       "    .dataframe tbody tr th {\n",
       "        vertical-align: top;\n",
       "    }\n",
       "\n",
       "    .dataframe thead th {\n",
       "        text-align: right;\n",
       "    }\n",
       "</style>\n",
       "<table border=\"1\" class=\"dataframe\">\n",
       "  <thead>\n",
       "    <tr style=\"text-align: right;\">\n",
       "      <th></th>\n",
       "      <th>Num_flights</th>\n",
       "      <th>Avg_fare</th>\n",
       "      <th>distance_from_1</th>\n",
       "      <th>distance_from_2</th>\n",
       "      <th>distance_from_3</th>\n",
       "      <th>closest</th>\n",
       "      <th>color</th>\n",
       "    </tr>\n",
       "  </thead>\n",
       "  <tbody>\n",
       "    <tr>\n",
       "      <th>0</th>\n",
       "      <td>12</td>\n",
       "      <td>39</td>\n",
       "      <td>26.925824</td>\n",
       "      <td>56.080300</td>\n",
       "      <td>56.727418</td>\n",
       "      <td>1</td>\n",
       "      <td>r</td>\n",
       "    </tr>\n",
       "    <tr>\n",
       "      <th>1</th>\n",
       "      <td>20</td>\n",
       "      <td>36</td>\n",
       "      <td>20.880613</td>\n",
       "      <td>48.373546</td>\n",
       "      <td>53.150729</td>\n",
       "      <td>1</td>\n",
       "      <td>r</td>\n",
       "    </tr>\n",
       "    <tr>\n",
       "      <th>2</th>\n",
       "      <td>28</td>\n",
       "      <td>30</td>\n",
       "      <td>14.142136</td>\n",
       "      <td>41.761226</td>\n",
       "      <td>53.338541</td>\n",
       "      <td>1</td>\n",
       "      <td>r</td>\n",
       "    </tr>\n",
       "    <tr>\n",
       "      <th>3</th>\n",
       "      <td>18</td>\n",
       "      <td>52</td>\n",
       "      <td>36.878178</td>\n",
       "      <td>50.990195</td>\n",
       "      <td>44.102154</td>\n",
       "      <td>1</td>\n",
       "      <td>r</td>\n",
       "    </tr>\n",
       "    <tr>\n",
       "      <th>4</th>\n",
       "      <td>29</td>\n",
       "      <td>54</td>\n",
       "      <td>38.118237</td>\n",
       "      <td>40.804412</td>\n",
       "      <td>34.058773</td>\n",
       "      <td>3</td>\n",
       "      <td>b</td>\n",
       "    </tr>\n",
       "  </tbody>\n",
       "</table>\n",
       "</div>"
      ],
      "text/plain": [
       "   Num_flights  Avg_fare  distance_from_1  distance_from_2  distance_from_3  \\\n",
       "0           12        39        26.925824        56.080300        56.727418   \n",
       "1           20        36        20.880613        48.373546        53.150729   \n",
       "2           28        30        14.142136        41.761226        53.338541   \n",
       "3           18        52        36.878178        50.990195        44.102154   \n",
       "4           29        54        38.118237        40.804412        34.058773   \n",
       "\n",
       "   closest color  \n",
       "0        1     r  \n",
       "1        1     r  \n",
       "2        1     r  \n",
       "3        1     r  \n",
       "4        3     b  "
      ]
     },
     "execution_count": 30,
     "metadata": {},
     "output_type": "execute_result"
    }
   ],
   "source": [
    "df = assignment(df, centroids)\n",
    "df.head()"
   ]
  },
  {
   "cell_type": "code",
   "execution_count": 31,
   "metadata": {
    "colab": {
     "base_uri": "https://localhost:8080/",
     "height": 349
    },
    "id": "dP6J7ShJ0Br1",
    "outputId": "2528e476-f99f-4b5a-e3a0-6557f38235f1"
   },
   "outputs": [
    {
     "data": {
      "image/png": "[encoded data removed]",
      "text/plain": [
       "<Figure size 360x360 with 1 Axes>"
      ]
     },
     "metadata": {
      "needs_background": "light"
     },
     "output_type": "display_data"
    }
   ],
   "source": [
    "#Plotting the graph for above\n",
    "plt.scatter(df['Num_flights'], df['Avg_fare'], color=df['color'],alpha=0.7)\n",
    "for i in centroids.keys():\n",
    "    plt.scatter(centroids[i][0], centroids[i][1], color=colmap[i],marker='*')\n",
    "plt.xlim(0,80)\n",
    "plt.ylim(0,80)\n",
    "plt.xlabel('Num_flights')\n",
    "plt.ylabel('Avg_fare')\n",
    "plt.show()\n"
   ]
  },
  {
   "cell_type": "code",
   "execution_count": 32,
   "metadata": {
    "colab": {
     "base_uri": "https://localhost:8080/"
    },
    "id": "XbHF3ES30Br5",
    "outputId": "803701a5-a561-4cdd-8495-699c18684c60"
   },
   "outputs": [
    {
     "data": {
      "text/plain": [
       "{1: [26, 16], 2: [68, 42], 3: [55, 76]}"
      ]
     },
     "execution_count": 32,
     "metadata": {},
     "output_type": "execute_result"
    }
   ],
   "source": [
    "#making copy of randomly created clusters\n",
    "import copy\n",
    "old_c = copy.deepcopy(centroids)\n",
    "old_c"
   ]
  },
  {
   "cell_type": "markdown",
   "metadata": {
    "id": "D8P6kLzk0Br9"
   },
   "source": [
    "### Step 6: Calculate the mean "
   ]
  },
  {
   "cell_type": "code",
   "execution_count": 33,
   "metadata": {
    "id": "pIQKSzK-0BsA"
   },
   "outputs": [],
   "source": [
    "def update(k):\n",
    "    for i in k.keys():\n",
    "        k[i][0] = np.mean(df[df['closest']==i]['Num_flights'])\n",
    "        k[i][1] = np.mean(df[df['closest']==i]['Avg_fare'])\n",
    "    return k"
   ]
  },
  {
   "cell_type": "code",
   "execution_count": 34,
   "metadata": {
    "colab": {
     "base_uri": "https://localhost:8080/"
    },
    "id": "GOI4rHm10BsD",
    "outputId": "a04da779-a1c8-43ab-94eb-c51c0b1c9818"
   },
   "outputs": [
    {
     "name": "stdout",
     "output_type": "stream",
     "text": [
      "old centroids {1: [26, 16], 2: [68, 42], 3: [55, 76]}\n",
      "updated centroids {1: [27.666666666666668, 36.166666666666664], 2: [63.8, 16.2], 3: [44.125, 61.0]}\n"
     ]
    }
   ],
   "source": [
    "#Printing both centroid i.e. first which is created randomly and second one after first iteration\n",
    "centroids = update(centroids)\n",
    "print('old centroids',old_c)\n",
    "print('updated centroids', centroids)"
   ]
  },
  {
   "cell_type": "code",
   "execution_count": 35,
   "metadata": {
    "colab": {
     "base_uri": "https://localhost:8080/",
     "height": 324
    },
    "id": "rb-YjEg30BsG",
    "outputId": "56e14e52-ba6a-4843-fbc8-724e9512fbd7"
   },
   "outputs": [
    {
     "data": {
      "image/png": "[encoded data removed]",
      "text/plain": [
       "<Figure size 360x360 with 1 Axes>"
      ]
     },
     "metadata": {
      "needs_background": "light"
     },
     "output_type": "display_data"
    }
   ],
   "source": [
    "#plotting the graph\n",
    "ax = plt.axes()\n",
    "plt.scatter(df['Num_flights'],df['Avg_fare'], color = df['color'], alpha=0.7)\n",
    "for i in centroids.keys():\n",
    "    old_x = old_c[i][0]\n",
    "    old_y = old_c[i][1]\n",
    "    dx = (centroids[i][0] - old_c[i][0]) *0.7\n",
    "    dy = (centroids[i][1] - old_c[i][1]) *0.8\n",
    "    #Drawing arrow to see the change\n",
    "    ax.arrow(old_x, old_y, dx, dy, head_width=2, head_length=3, fc=colmap[i], ec=colmap[i])\n",
    "plt.show()"
   ]
  },
  {
   "cell_type": "code",
   "execution_count": 36,
   "metadata": {
    "colab": {
     "base_uri": "https://localhost:8080/",
     "height": 349
    },
    "id": "kqfNZiVN0BsJ",
    "outputId": "35f61b71-5239-4bd6-8cd9-2f80e8392803"
   },
   "outputs": [
    {
     "data": {
      "image/png": "[encoded data removed]",
      "text/plain": [
       "<Figure size 360x360 with 1 Axes>"
      ]
     },
     "metadata": {
      "needs_background": "light"
     },
     "output_type": "display_data"
    }
   ],
   "source": [
    "#Repeating same step\n",
    "df = assignment(df, centroids)\n",
    "#plotting the results\n",
    "plt.scatter(df['Num_flights'], df['Avg_fare'], color=df['color'],alpha=0.7)\n",
    "for i in centroids.keys():\n",
    "    plt.scatter(centroids[i][0], centroids[i][1], color=colmap[i],marker='*')\n",
    "plt.xlim(0,80)\n",
    "plt.ylim(0,80)\n",
    "plt.xlabel('Num_flights')\n",
    "plt.ylabel('Avg_fare')\n",
    "plt.show()\n",
    "    "
   ]
  },
  {
   "cell_type": "markdown",
   "metadata": {
    "id": "Zf5Wg0qL0BsP"
   },
   "source": [
    "### Step 7: Continue with same steps until all assigned categories dont change anymore"
   ]
  },
  {
   "cell_type": "code",
   "execution_count": 37,
   "metadata": {
    "colab": {
     "base_uri": "https://localhost:8080/",
     "height": 349
    },
    "id": "IOcWdg-p0BsQ",
    "outputId": "746bb3e7-7c7c-4b56-a04f-db8d045ffd20"
   },
   "outputs": [
    {
     "data": {
      "image/png": "[encoded data removed]",
      "text/plain": [
       "<Figure size 360x360 with 1 Axes>"
      ]
     },
     "metadata": {
      "needs_background": "light"
     },
     "output_type": "display_data"
    }
   ],
   "source": [
    "while True:\n",
    "    closest_centroids = df['closest'].copy(deep=True)\n",
    "    centroids = update(centroids)\n",
    "    df = assignment(df, centroids)\n",
    "    if closest_centroids.equals(df['closest']):\n",
    "        break\n",
    "#Plotting the graph\n",
    "plt.scatter(df['Num_flights'], df['Avg_fare'], color=df['color'],alpha=0.7)\n",
    "for i in centroids.keys():\n",
    "    plt.scatter(centroids[i][0], centroids[i][1], color=colmap[i],marker='*')\n",
    "plt.xlim(0,80)\n",
    "plt.ylim(0,80)\n",
    "plt.xlabel('Num_flights')\n",
    "plt.ylabel('Avg_fare')\n",
    "plt.show()"
   ]
  },
  {
   "cell_type": "code",
   "execution_count": 38,
   "metadata": {
    "colab": {
     "base_uri": "https://localhost:8080/"
    },
    "id": "BR2dfAau0BsT",
    "outputId": "c6f2af52-9126-4d19-9527-d17c6dac2e0a"
   },
   "outputs": [
    {
     "data": {
      "text/plain": [
       "{1: [23.428571428571427, 44.57142857142857],\n",
       " 2: [62.333333333333336, 15.833333333333334],\n",
       " 3: [50.0, 63.166666666666664]}"
      ]
     },
     "execution_count": 38,
     "metadata": {},
     "output_type": "execute_result"
    }
   ],
   "source": [
    "centroids"
   ]
  },
  {
   "cell_type": "markdown",
   "metadata": {
    "id": "oP97RAny0BsX"
   },
   "source": [
    "# Implementing K-Means using sklearn "
   ]
  },
  {
   "cell_type": "markdown",
   "metadata": {
    "id": "1jzHZWzh0BsY"
   },
   "source": [
    "### Step 1: Import required libraries"
   ]
  },
  {
   "cell_type": "code",
   "execution_count": 39,
   "metadata": {
    "id": "VZiNKXDI0Bsa"
   },
   "outputs": [],
   "source": [
    "from sklearn.cluster import KMeans"
   ]
  },
  {
   "cell_type": "markdown",
   "metadata": {
    "id": "Zc9nczBE0Bsb"
   },
   "source": [
    "### Step 2: Create dataset"
   ]
  },
  {
   "cell_type": "code",
   "execution_count": 40,
   "metadata": {
    "colab": {
     "base_uri": "https://localhost:8080/",
     "height": 206
    },
    "id": "XS03aimE0Bsd",
    "outputId": "f5d3a616-e7dd-42c1-b2c3-cb8eec8b3093"
   },
   "outputs": [
    {
     "data": {
      "text/html": [
       "<div>\n",
       "<style scoped>\n",
       "    .dataframe tbody tr th:only-of-type {\n",
       "        vertical-align: middle;\n",
       "    }\n",
       "\n",
       "    .dataframe tbody tr th {\n",
       "        vertical-align: top;\n",
       "    }\n",
       "\n",
       "    .dataframe thead th {\n",
       "        text-align: right;\n",
       "    }\n",
       "</style>\n",
       "<table border=\"1\" class=\"dataframe\">\n",
       "  <thead>\n",
       "    <tr style=\"text-align: right;\">\n",
       "      <th></th>\n",
       "      <th>Num_flights</th>\n",
       "      <th>Avg_fare</th>\n",
       "    </tr>\n",
       "  </thead>\n",
       "  <tbody>\n",
       "    <tr>\n",
       "      <th>0</th>\n",
       "      <td>12</td>\n",
       "      <td>39</td>\n",
       "    </tr>\n",
       "    <tr>\n",
       "      <th>1</th>\n",
       "      <td>20</td>\n",
       "      <td>36</td>\n",
       "    </tr>\n",
       "    <tr>\n",
       "      <th>2</th>\n",
       "      <td>28</td>\n",
       "      <td>30</td>\n",
       "    </tr>\n",
       "    <tr>\n",
       "      <th>3</th>\n",
       "      <td>18</td>\n",
       "      <td>52</td>\n",
       "    </tr>\n",
       "    <tr>\n",
       "      <th>4</th>\n",
       "      <td>29</td>\n",
       "      <td>54</td>\n",
       "    </tr>\n",
       "  </tbody>\n",
       "</table>\n",
       "</div>"
      ],
      "text/plain": [
       "   Num_flights  Avg_fare\n",
       "0           12        39\n",
       "1           20        36\n",
       "2           28        30\n",
       "3           18        52\n",
       "4           29        54"
      ]
     },
     "execution_count": 40,
     "metadata": {},
     "output_type": "execute_result"
    }
   ],
   "source": [
    "df=pd.DataFrame({\n",
    "                'Num_flights': [12, 20, 28, 18, 29, 33, 24, 45, 45, 52, 51, 52, 55, 53, 55, 61, 64, 69, 72], \n",
    "                 'Avg_fare': [39, 36, 30, 52, 54, 46, 55, 59, 63, 70, 66, 63, 58, 23, 14, 8, 19, 7, 24]})\n",
    "df=df[['Num_flights','Avg_fare']]\n",
    "df.head()"
   ]
  },
  {
   "cell_type": "code",
   "execution_count": 41,
   "metadata": {
    "colab": {
     "base_uri": "https://localhost:8080/"
    },
    "id": "P4Bu-JVq0Bsg",
    "outputId": "adb49caa-6e40-48f2-bc63-f5397c5cb76e"
   },
   "outputs": [
    {
     "data": {
      "text/plain": [
       "array([1, 1, 1, 1, 1, 1, 1, 2, 2, 2, 2, 2, 2, 0, 0, 0, 0, 0, 0])"
      ]
     },
     "execution_count": 41,
     "metadata": {},
     "output_type": "execute_result"
    }
   ],
   "source": [
    "#Instantiated kmeans into a variable\n",
    "kmeans = KMeans(n_clusters=3)\n",
    "kmeans.fit(df)\n",
    "labels=kmeans.predict(df)\n",
    "labels"
   ]
  },
  {
   "cell_type": "code",
   "execution_count": 42,
   "metadata": {
    "colab": {
     "base_uri": "https://localhost:8080/"
    },
    "id": "Y_AAy8mj0Bsi",
    "outputId": "7d3d6679-2a76-48ce-bcbf-93c68a55fb00"
   },
   "outputs": [
    {
     "data": {
      "text/plain": [
       "array([[62.33333333, 15.83333333],\n",
       "       [23.42857143, 44.57142857],\n",
       "       [50.        , 63.16666667]])"
      ]
     },
     "execution_count": 42,
     "metadata": {},
     "output_type": "execute_result"
    }
   ],
   "source": [
    "#This will give cordinates for centroid\n",
    "sk_centroids = kmeans.cluster_centers_\n",
    "sk_centroids"
   ]
  },
  {
   "cell_type": "code",
   "execution_count": 47,
   "metadata": {
    "colab": {
     "base_uri": "https://localhost:8080/"
    },
    "id": "L4YS7Kba0Bsk",
    "outputId": "d056c4df-d95a-4e80-d91c-f62b7a8d62a1"
   },
   "outputs": [
    {
     "data": {
      "text/plain": [
       "254.66666666666666"
      ]
     },
     "execution_count": 47,
     "metadata": {},
     "output_type": "execute_result"
    }
   ],
   "source": [
    "#From here we are going to find how to choose correct number of cluster\n",
    "#This gives us sum of variance for each clusters \n",
    "kmeans.inertia_"
   ]
  },
  {
   "cell_type": "code",
   "execution_count": 48,
   "metadata": {
    "colab": {
     "base_uri": "https://localhost:8080/",
     "height": 349
    },
    "id": "qriBj2Wl0Bsm",
    "outputId": "2b41854c-d6b0-4d83-c421-171f96219236"
   },
   "outputs": [
    {
     "data": {
      "image/png": "[encoded data removed]",
      "text/plain": [
       "<Figure size 360x360 with 1 Axes>"
      ]
     },
     "metadata": {
      "needs_background": "light"
     },
     "output_type": "display_data"
    }
   ],
   "source": [
    "#Plotting the graph\n",
    "colors = map(lambda x: colmap[x+1], labels)\n",
    "colors1 = list(colors)\n",
    "plt.scatter(df['Num_flights'], df['Avg_fare'], color=colors1,alpha=0.7)\n",
    "for idx, centroid in enumerate(sk_centroids):\n",
    "    plt.scatter(centroid[0], centroid[1], color=colmap[idx+1],marker='*')\n",
    "plt.xlim(0,80)\n",
    "plt.ylim(0,80)\n",
    "plt.xlabel('Num_flights')\n",
    "plt.ylabel('Avg_fare')\n",
    "plt.show()"
   ]
  },
  {
   "cell_type": "code",
   "execution_count": 49,
   "metadata": {
    "id": "Hjazi9vX0Bso"
   },
   "outputs": [
    {
     "name": "stderr",
     "output_type": "stream",
     "text": [
      "C:\\Users\\AdmiN\\anaconda3\\lib\\site-packages\\sklearn\\cluster\\_kmeans.py:1036: UserWarning: KMeans is known to have a memory leak on Windows with MKL, when there are less chunks than available threads. You can avoid it by setting the environment variable OMP_NUM_THREADS=1.\n",
      "  warnings.warn(\n"
     ]
    }
   ],
   "source": [
    "#Here we are trying kmeans on different number of clusters on this dataset\n",
    "inertia_list = []\n",
    "for num_clusters in np.arange(1, 11):\n",
    "    kmeans = KMeans(n_clusters=num_clusters)\n",
    "    kmeans.fit(df)\n",
    "    inertia_list.append(kmeans.inertia_)"
   ]
  },
  {
   "cell_type": "code",
   "execution_count": 50,
   "metadata": {
    "colab": {
     "base_uri": "https://localhost:8080/"
    },
    "id": "r-dopPwV0Bs8",
    "outputId": "3b46980a-bd0a-4a8b-ed9a-b66bd52822c8"
   },
   "outputs": [
    {
     "data": {
      "text/plain": [
       "[13654.21052631579,\n",
       " 5022.628205128205,\n",
       " 1624.4285714285716,\n",
       " 1081.75,\n",
       " 850.9166666666667,\n",
       " 647.0833333333334,\n",
       " 513.5833333333334,\n",
       " 428.1666666666667,\n",
       " 315.0833333333333,\n",
       " 269.75]"
      ]
     },
     "execution_count": 50,
     "metadata": {},
     "output_type": "execute_result"
    }
   ],
   "source": [
    "inertia_list"
   ]
  },
  {
   "cell_type": "markdown",
   "metadata": {
    "id": "IYcO4krZ0Bs-"
   },
   "source": [
    "Here we can see that as we increase the number of cluster, inertia is coming down"
   ]
  },
  {
   "cell_type": "code",
   "execution_count": 51,
   "metadata": {
    "colab": {
     "base_uri": "https://localhost:8080/",
     "height": 324
    },
    "id": "PH80lR3_0Bs_",
    "outputId": "90d94ed1-1448-4999-dc03-dff1eefb4231"
   },
   "outputs": [
    {
     "data": {
      "image/png": "[encoded data removed]",
      "text/plain": [
       "<Figure size 720x360 with 1 Axes>"
      ]
     },
     "metadata": {
      "needs_background": "light"
     },
     "output_type": "display_data"
    }
   ],
   "source": [
    "#Plotting the graph for above\n",
    "plt.figure(figsize=(10,5))\n",
    "plt.plot(np.arange(1,11), inertia_list)\n",
    "plt.xticks(np.arange(1,11))\n",
    "plt.grid(True)\n",
    "plt.show()"
   ]
  },
  {
   "cell_type": "markdown",
   "metadata": {
    "id": "82VoJFeN0BtC"
   },
   "source": [
    "#### Note: If we dont mention the number of cluster then default value of cluster will be 8"
   ]
  }
 ],
 "metadata": {
  "colab": {
   "collapsed_sections": [],
   "name": "1752_day18_demo2  - Implementing K-Means Clustering.ipynb",
   "provenance": []
  },
  "kernelspec": {
   "display_name": "Python 3 (ipykernel)",
   "language": "python",
   "name": "python3"
  },
  "language_info": {
   "codemirror_mode": {
    "name": "ipython",
    "version": 3
   },
   "file_extension": ".py",
   "mimetype": "text/x-python",
   "name": "python",
   "nbconvert_exporter": "python",
   "pygments_lexer": "ipython3",
   "version": "3.9.12"
  }
 },
 "nbformat": 4,
 "nbformat_minor": 1
}
