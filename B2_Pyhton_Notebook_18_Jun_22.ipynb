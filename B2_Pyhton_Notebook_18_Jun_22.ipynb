{
 "cells": [
  {
   "cell_type": "code",
   "execution_count": null,
   "id": "edceb6fb",
   "metadata": {},
   "outputs": [],
   "source": [
    "## Numpy : match calculations "
   ]
  },
  {
   "cell_type": "code",
   "execution_count": 1,
   "id": "40f2ed28",
   "metadata": {},
   "outputs": [
    {
     "name": "stdout",
     "output_type": "stream",
     "text": [
      "Requirement already satisfied: numpy in c:\\users\\admin\\anaconda3\\lib\\site-packages (1.21.5)\n"
     ]
    }
   ],
   "source": [
    "!pip install numpy"
   ]
  },
  {
   "cell_type": "code",
   "execution_count": 8,
   "id": "8d78e562",
   "metadata": {},
   "outputs": [],
   "source": [
    "import numpy as np"
   ]
  },
  {
   "cell_type": "code",
   "execution_count": 9,
   "id": "43f56110",
   "metadata": {},
   "outputs": [
    {
     "data": {
      "text/plain": [
       "608"
      ]
     },
     "execution_count": 9,
     "metadata": {},
     "output_type": "execute_result"
    }
   ],
   "source": [
    "len(dir(np))"
   ]
  },
  {
   "cell_type": "code",
   "execution_count": 10,
   "id": "ce803272",
   "metadata": {},
   "outputs": [
    {
     "data": {
      "text/plain": [
       "list"
      ]
     },
     "execution_count": 10,
     "metadata": {},
     "output_type": "execute_result"
    }
   ],
   "source": [
    "type([1,2,3,4,5])"
   ]
  },
  {
   "cell_type": "code",
   "execution_count": 12,
   "id": "79d4f990",
   "metadata": {},
   "outputs": [
    {
     "name": "stdout",
     "output_type": "stream",
     "text": [
      "[1 2 3 4 5]\n"
     ]
    },
    {
     "data": {
      "text/plain": [
       "numpy.ndarray"
      ]
     },
     "execution_count": 12,
     "metadata": {},
     "output_type": "execute_result"
    }
   ],
   "source": [
    "# Numpy array from list \n",
    "\n",
    "arr = np.array([1,2,3,4,5])\n",
    "print(arr)\n",
    "type(arr)"
   ]
  },
  {
   "cell_type": "code",
   "execution_count": 14,
   "id": "f84305f6",
   "metadata": {},
   "outputs": [
    {
     "name": "stdout",
     "output_type": "stream",
     "text": [
      "[1 2 3 4 5]\n"
     ]
    },
    {
     "data": {
      "text/plain": [
       "numpy.ndarray"
      ]
     },
     "execution_count": 14,
     "metadata": {},
     "output_type": "execute_result"
    }
   ],
   "source": [
    "# Numpy array from tuple\n",
    "\n",
    "arr = np.array((1,2,3,4,5))\n",
    "print(arr)\n",
    "type(arr)"
   ]
  },
  {
   "cell_type": "code",
   "execution_count": 15,
   "id": "08e04622",
   "metadata": {},
   "outputs": [
    {
     "name": "stdout",
     "output_type": "stream",
     "text": [
      "{1, 2, 3, 4, 5, 31}\n"
     ]
    },
    {
     "data": {
      "text/plain": [
       "numpy.ndarray"
      ]
     },
     "execution_count": 15,
     "metadata": {},
     "output_type": "execute_result"
    }
   ],
   "source": [
    "# Numpy array from set\n",
    "\n",
    "arr = np.array({1,2,3,4,5,5,5,3,3,31})\n",
    "print(arr)\n",
    "type(arr)"
   ]
  },
  {
   "cell_type": "code",
   "execution_count": 25,
   "id": "abc3b591",
   "metadata": {},
   "outputs": [
    {
     "name": "stdout",
     "output_type": "stream",
     "text": [
      "[1.  2.  3.  4.  5.1]\n",
      "1\n",
      "(5,)\n",
      "5\n",
      "float64\n",
      "8\n"
     ]
    }
   ],
   "source": [
    "# Numpy array : attributes \n",
    "\n",
    "arr = np.array([1,2,3,4,5.1])\n",
    "\n",
    "print(arr)\n",
    "print(arr.ndim) # dimension of the array\n",
    "print(arr.shape) # Number of rows & columns \n",
    "print(arr.size) # total number of elements\n",
    "print(arr.dtype) # the data type of contents of the array\n",
    "print(arr.itemsize) # number of bytes used to store the array elements"
   ]
  },
  {
   "cell_type": "code",
   "execution_count": 26,
   "id": "23b95707",
   "metadata": {},
   "outputs": [
    {
     "name": "stdout",
     "output_type": "stream",
     "text": [
      "[[  1   2   3   4   5]\n",
      " [ 10  20  30  40  50]\n",
      " [100 200 300 400 500]]\n",
      "2\n",
      "(3, 5)\n",
      "15\n",
      "int32\n",
      "4\n"
     ]
    }
   ],
   "source": [
    "# Numpy array : attributes \n",
    "\n",
    "arr = np.array([[1,2,3,4,5],[10,20,30,40,50],[100,200,300,400,500]])\n",
    "\n",
    "print(arr)\n",
    "print(arr.ndim) # dimension of the array\n",
    "print(arr.shape) # Number of rows & columns \n",
    "print(arr.size) # total number of elements\n",
    "print(arr.dtype) # the data type of contents of the array\n",
    "print(arr.itemsize) # number of bytes used to store the array elements"
   ]
  },
  {
   "cell_type": "code",
   "execution_count": 27,
   "id": "c92eb66b",
   "metadata": {},
   "outputs": [
    {
     "name": "stdout",
     "output_type": "stream",
     "text": [
      "[[1. 1. 1. 1. 1.]\n",
      " [1. 1. 1. 1. 1.]\n",
      " [1. 1. 1. 1. 1.]\n",
      " [1. 1. 1. 1. 1.]\n",
      " [1. 1. 1. 1. 1.]]\n",
      "[[0. 0. 0. 0. 0.]\n",
      " [0. 0. 0. 0. 0.]\n",
      " [0. 0. 0. 0. 0.]\n",
      " [0. 0. 0. 0. 0.]\n",
      " [0. 0. 0. 0. 0.]]\n"
     ]
    }
   ],
   "source": [
    "## ones() and zeros()\n",
    "\n",
    "arr = np.ones((5,5))\n",
    "print(arr)\n",
    "\n",
    "arr = np.zeros((5,5))\n",
    "print(arr)\n"
   ]
  },
  {
   "cell_type": "code",
   "execution_count": 32,
   "id": "d361159b",
   "metadata": {},
   "outputs": [
    {
     "name": "stdout",
     "output_type": "stream",
     "text": [
      "2055766391280\n",
      "2055766391280\n",
      "2055774891824\n",
      "[858585      2      3]\n",
      "[858585      2      3]\n",
      "[1 2 3]\n"
     ]
    }
   ],
   "source": [
    "## copy \n",
    "\n",
    "import numpy as np \n",
    "a = np.array([1,2,3])\n",
    "print(id(a))\n",
    "\n",
    "b = a\n",
    "print(id(b))\n",
    "\n",
    "c = a.copy()\n",
    "print(id(c))\n",
    "\n",
    "a[0]= 858585\n",
    "\n",
    "print(a)\n",
    "print(b)\n",
    "print(c)\n"
   ]
  },
  {
   "cell_type": "code",
   "execution_count": 35,
   "id": "fb1a6667",
   "metadata": {},
   "outputs": [
    {
     "name": "stdout",
     "output_type": "stream",
     "text": [
      "[ 0  1  2  3  4  5  6  7  8  9 10 11 12 13 14 15 16 17 18 19]\n"
     ]
    }
   ],
   "source": [
    "# arange \n",
    "\n",
    "import numpy as np \n",
    "arr = np.arange(0,20)\n",
    "print(arr)"
   ]
  },
  {
   "cell_type": "code",
   "execution_count": 37,
   "id": "db920115",
   "metadata": {},
   "outputs": [
    {
     "name": "stdout",
     "output_type": "stream",
     "text": [
      "[ 0  2  4  6  8 10 12 14 16 18 20]\n"
     ]
    }
   ],
   "source": [
    "# arange \n",
    "\n",
    "import numpy as np \n",
    "arr = np.arange(0,21,2)\n",
    "print(arr)"
   ]
  },
  {
   "cell_type": "code",
   "execution_count": 54,
   "id": "b6399030",
   "metadata": {},
   "outputs": [
    {
     "name": "stdout",
     "output_type": "stream",
     "text": [
      "[  0.  25.  50.  75. 100.]\n"
     ]
    }
   ],
   "source": [
    "# linspace \n",
    "\n",
    "import numpy as np \n",
    "arr = np.linspace(0,100,5)\n",
    "print(arr)"
   ]
  },
  {
   "cell_type": "code",
   "execution_count": 42,
   "id": "727f1f8e",
   "metadata": {},
   "outputs": [
    {
     "name": "stdout",
     "output_type": "stream",
     "text": [
      "[11 22 33 44 55]\n",
      "[ -9 -18 -27 -36 -45]\n",
      "[ 10  40  90 160 250]\n",
      "[0.1 0.1 0.1 0.1 0.1]\n"
     ]
    }
   ],
   "source": [
    "## Arithmetic operators \n",
    "\n",
    "a = np.array([1,2,3,4,5])\n",
    "b = np.array([10,20,30,40,50])\n",
    "\n",
    "print(a+b)\n",
    "print(a-b)\n",
    "print(a*b)\n",
    "print(a/b)"
   ]
  },
  {
   "cell_type": "code",
   "execution_count": 57,
   "id": "c2ce288f",
   "metadata": {},
   "outputs": [
    {
     "name": "stdout",
     "output_type": "stream",
     "text": [
      "[[0 1 2]\n",
      " [3 4 5]\n",
      " [6 7 8]]\n",
      "[[1. 1. 1.]\n",
      " [1. 1. 1.]\n",
      " [1. 1. 1.]]\n",
      "[[ 3.  3.  3.]\n",
      " [12. 12. 12.]\n",
      " [21. 21. 21.]]\n"
     ]
    }
   ],
   "source": [
    "## Matrix product \n",
    "\n",
    "import numpy as np \n",
    "a = np.arange(0,9).reshape(3,3)\n",
    "b = np.ones((3,3))\n",
    "\n",
    "print(a)\n",
    "print(b)\n",
    "\n",
    "print(np.dot(a,b))"
   ]
  },
  {
   "cell_type": "code",
   "execution_count": 61,
   "id": "c1584b8c",
   "metadata": {},
   "outputs": [
    {
     "data": {
      "text/plain": [
       "array([[0, 1, 2],\n",
       "       [3, 4, 5],\n",
       "       [6, 7, 8]])"
      ]
     },
     "execution_count": 61,
     "metadata": {},
     "output_type": "execute_result"
    }
   ],
   "source": [
    "np.arange(0,9).reshape(3,3)"
   ]
  },
  {
   "cell_type": "code",
   "execution_count": 65,
   "id": "a024c449",
   "metadata": {},
   "outputs": [
    {
     "name": "stdout",
     "output_type": "stream",
     "text": [
      "[ 4  9 16 25]\n",
      "[2. 3. 4. 5.]\n",
      "[1.38629436 2.19722458 2.77258872 3.21887582]\n",
      "[2. 3. 4. 5.]\n"
     ]
    }
   ],
   "source": [
    "## Universal functions \n",
    "\n",
    "import numpy as np \n",
    "\n",
    "arr = np.array([4,9,16,25])\n",
    "\n",
    "print(arr)\n",
    "print(np.sqrt(arr))\n",
    "print(np.log(arr))\n",
    "print(np.sqrt(arr))"
   ]
  },
  {
   "cell_type": "code",
   "execution_count": 66,
   "id": "02e44879",
   "metadata": {},
   "outputs": [
    {
     "name": "stdout",
     "output_type": "stream",
     "text": [
      "54\n",
      "4\n",
      "25\n",
      "13.5\n",
      "7.88986691902975\n"
     ]
    }
   ],
   "source": [
    "## Aggregate functions \n",
    "\n",
    "print(arr.sum())\n",
    "print(arr.min())\n",
    "print(arr.max())\n",
    "print(arr.mean())\n",
    "print(arr.std())"
   ]
  },
  {
   "cell_type": "code",
   "execution_count": 77,
   "id": "85b71832",
   "metadata": {},
   "outputs": [
    {
     "name": "stdout",
     "output_type": "stream",
     "text": [
      "[[ True False]\n",
      " [ True  True]]\n",
      "False\n",
      "[[ True False]]\n"
     ]
    }
   ],
   "source": [
    "## Logical functions\n",
    "\n",
    "arr = np.array([[True,False],[True,True]])\n",
    "print(arr)\n",
    "\n",
    "# Overall \n",
    "print(np.all([arr]))\n",
    "\n",
    "print(np.all([arr], axis = 1))"
   ]
  },
  {
   "cell_type": "code",
   "execution_count": 78,
   "id": "cc0dd0c0",
   "metadata": {},
   "outputs": [
    {
     "name": "stdout",
     "output_type": "stream",
     "text": [
      "[[ True False]\n",
      " [ True  True]]\n",
      "True\n",
      "[[ True  True]]\n"
     ]
    }
   ],
   "source": [
    "## Logical functions\n",
    "\n",
    "arr = np.array([[True,False],[True,True]])\n",
    "print(arr)\n",
    "\n",
    "# Overall \n",
    "print(np.any([arr]))\n",
    "\n",
    "print(np.any([arr], axis = 1))"
   ]
  },
  {
   "cell_type": "code",
   "execution_count": null,
   "id": "b48d3c32",
   "metadata": {},
   "outputs": [],
   "source": []
  },
  {
   "cell_type": "code",
   "execution_count": null,
   "id": "36ca2be5",
   "metadata": {},
   "outputs": [],
   "source": []
  },
  {
   "cell_type": "code",
   "execution_count": null,
   "id": "0fedc8ee",
   "metadata": {},
   "outputs": [],
   "source": []
  },
  {
   "cell_type": "code",
   "execution_count": null,
   "id": "a56dae30",
   "metadata": {},
   "outputs": [],
   "source": []
  }
 ],
 "metadata": {
  "kernelspec": {
   "display_name": "Python 3 (ipykernel)",
   "language": "python",
   "name": "python3"
  },
  "language_info": {
   "codemirror_mode": {
    "name": "ipython",
    "version": 3
   },
   "file_extension": ".py",
   "mimetype": "text/x-python",
   "name": "python",
   "nbconvert_exporter": "python",
   "pygments_lexer": "ipython3",
   "version": "3.9.12"
  }
 },
 "nbformat": 4,
 "nbformat_minor": 5
}
