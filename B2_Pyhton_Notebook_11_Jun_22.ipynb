{
 "cells": [
  {
   "cell_type": "code",
   "execution_count": 1,
   "id": "607ccf04",
   "metadata": {},
   "outputs": [
    {
     "name": "stdout",
     "output_type": "stream",
     "text": [
      "X lesser than 100\n"
     ]
    }
   ],
   "source": [
    "## Control flow in python \n",
    "\n",
    "## If condition : Check for condition\n",
    "\n",
    "x = 10 \n",
    "\n",
    "if x >= 100:\n",
    "    print(\"X greater than 100\")\n",
    "else:\n",
    "    print(\"X lesser than 100\")"
   ]
  },
  {
   "cell_type": "code",
   "execution_count": 11,
   "id": "fbec6637",
   "metadata": {},
   "outputs": [
    {
     "name": "stdout",
     "output_type": "stream",
     "text": [
      " X is greater than 100\n"
     ]
    }
   ],
   "source": [
    "## If, elif and else - Check if x >= 50 and <= 100\n",
    "\n",
    "x = 180\n",
    "\n",
    "if x <= 50:\n",
    "    print(\" X less than 50 \")\n",
    "    \n",
    "elif x <= 75:\n",
    "    print(\" X is less than 75 \")\n",
    "    \n",
    "elif x <= 100:\n",
    "    print(\" X is less than 100 \")\n",
    "    \n",
    "else: \n",
    "    print(\" X is greater than 100\")\n",
    "\n"
   ]
  },
  {
   "cell_type": "code",
   "execution_count": 17,
   "id": "f5f590cd",
   "metadata": {},
   "outputs": [
    {
     "name": "stdout",
     "output_type": "stream",
     "text": [
      "1 X 2= 2\n",
      "2 X 2= 4\n",
      "3 X 2= 6\n",
      "4 X 2= 8\n",
      "5 X 2= 10\n",
      "6 X 2= 12\n",
      "7 X 2= 14\n",
      "8 X 2= 16\n",
      "9 X 2= 18\n",
      "10 X 2= 20\n"
     ]
    }
   ],
   "source": [
    "## For loop : It will iterate through a object \n",
    "\n",
    "x = [1,2,3,4,5,6,7,8,9,10]\n",
    "\n",
    "for i in x:\n",
    "    print(i, 'X', '2=', i*2)\n",
    "\n"
   ]
  },
  {
   "cell_type": "code",
   "execution_count": 20,
   "id": "4427814c",
   "metadata": {},
   "outputs": [
    {
     "name": "stdout",
     "output_type": "stream",
     "text": [
      "2\n",
      "4\n",
      "6\n",
      "8\n",
      "10\n"
     ]
    }
   ],
   "source": [
    "## First 5 even numbers \n",
    "\n",
    "x = [1,2,3,4,5,6,7,8,9,10,11]\n",
    "\n",
    "for i in x:\n",
    "    if i % 2 == 0:\n",
    "        print(i)\n",
    "        "
   ]
  },
  {
   "cell_type": "code",
   "execution_count": 50,
   "id": "44984567",
   "metadata": {},
   "outputs": [
    {
     "name": "stdout",
     "output_type": "stream",
     "text": [
      "1\n",
      "2\n",
      "3\n",
      "4\n",
      "5\n",
      "6\n",
      "7\n",
      "8\n",
      "9\n",
      "10\n"
     ]
    }
   ],
   "source": [
    "## While loop : Runs as long as the condition is true \n",
    "\n",
    "x = 1 \n",
    "\n",
    "while x <= 10:\n",
    "    print(x)\n",
    "    x = x+1"
   ]
  },
  {
   "cell_type": "code",
   "execution_count": 55,
   "id": "24f84227",
   "metadata": {},
   "outputs": [
    {
     "name": "stdout",
     "output_type": "stream",
     "text": [
      "1\n",
      "2\n",
      "3\n",
      "4\n",
      "5\n"
     ]
    }
   ],
   "source": [
    "## Break \n",
    "\n",
    "x = [1,2,3,4,5,6,7,8,9,10]\n",
    "\n",
    "for i in x: \n",
    "    print (i)\n",
    "    if i == 5:\n",
    "        break\n",
    "        print(\"This is break condition\")"
   ]
  },
  {
   "cell_type": "code",
   "execution_count": 56,
   "id": "93ca261f",
   "metadata": {},
   "outputs": [
    {
     "name": "stdout",
     "output_type": "stream",
     "text": [
      "1\n",
      "2\n",
      "3\n",
      "4\n",
      "5\n",
      "6\n",
      "7\n",
      "8\n",
      "9\n",
      "10\n"
     ]
    }
   ],
   "source": [
    "## Continue\n",
    "\n",
    "x = [1,2,3,4,5,6,7,8,9,10]\n",
    "\n",
    "for i in x: \n",
    "    print (i)\n",
    "    if i == 5:\n",
    "        continue\n",
    "        print(\"This is break condition\")"
   ]
  },
  {
   "cell_type": "code",
   "execution_count": 61,
   "id": "5a173036",
   "metadata": {},
   "outputs": [
    {
     "name": "stdout",
     "output_type": "stream",
     "text": [
      "1\n",
      "2\n",
      "3\n",
      "4\n",
      "5\n",
      "Number is 5.. Warning\n",
      "6\n",
      "7\n",
      "8\n",
      "9\n",
      "10\n"
     ]
    }
   ],
   "source": [
    "## Continue\n",
    "\n",
    "x = [1,2,3,4,5,6,7,8,9,10]\n",
    "\n",
    "for i in x: \n",
    "    print (i)\n",
    "    if i != 5:\n",
    "        continue\n",
    "    print(\"Number is 5.. Warning\")"
   ]
  },
  {
   "cell_type": "code",
   "execution_count": 63,
   "id": "37983e1d",
   "metadata": {},
   "outputs": [],
   "source": [
    "## Pass \n",
    "\n",
    "def futuredev():\n",
    "    pass"
   ]
  }
 ],
 "metadata": {
  "kernelspec": {
   "display_name": "Python 3 (ipykernel)",
   "language": "python",
   "name": "python3"
  },
  "language_info": {
   "codemirror_mode": {
    "name": "ipython",
    "version": 3
   },
   "file_extension": ".py",
   "mimetype": "text/x-python",
   "name": "python",
   "nbconvert_exporter": "python",
   "pygments_lexer": "ipython3",
   "version": "3.9.12"
  }
 },
 "nbformat": 4,
 "nbformat_minor": 5
}
