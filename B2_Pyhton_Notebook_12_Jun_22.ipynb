{
 "cells": [
  {
   "cell_type": "code",
   "execution_count": 1,
   "id": "e0136794",
   "metadata": {},
   "outputs": [],
   "source": [
    "## Functions \n",
    "\n",
    "def hw(arg):\n",
    "    \n",
    "    print(arg * 10)"
   ]
  },
  {
   "cell_type": "code",
   "execution_count": 2,
   "id": "223880d4",
   "metadata": {},
   "outputs": [
    {
     "name": "stdout",
     "output_type": "stream",
     "text": [
      "30\n"
     ]
    }
   ],
   "source": [
    "hw(3)"
   ]
  },
  {
   "cell_type": "code",
   "execution_count": 4,
   "id": "f154c511",
   "metadata": {},
   "outputs": [],
   "source": [
    "def sm (a,b):\n",
    "    \"\"\" This is sum function\"\"\"\n",
    "    smm = a+b\n",
    "    return(smm)"
   ]
  },
  {
   "cell_type": "code",
   "execution_count": 6,
   "id": "33bf26bb",
   "metadata": {},
   "outputs": [
    {
     "data": {
      "text/plain": [
       "30"
      ]
     },
     "execution_count": 6,
     "metadata": {},
     "output_type": "execute_result"
    }
   ],
   "source": [
    "sm(10,20)"
   ]
  },
  {
   "cell_type": "code",
   "execution_count": 7,
   "id": "70b947d7",
   "metadata": {},
   "outputs": [],
   "source": [
    "## Function to print \" Welcome to Python\"\n",
    "\n",
    "def wcp():\n",
    "    print(\"Welcome to Python\")"
   ]
  },
  {
   "cell_type": "code",
   "execution_count": 16,
   "id": "1a264637",
   "metadata": {},
   "outputs": [
    {
     "name": "stdout",
     "output_type": "stream",
     "text": [
      "Welcome to Python\n"
     ]
    }
   ],
   "source": [
    "wcp()"
   ]
  },
  {
   "cell_type": "code",
   "execution_count": 17,
   "id": "f1a65f9a",
   "metadata": {},
   "outputs": [],
   "source": [
    "### Function to find the differnce of 2 numbers and print the differnce \n",
    "\n",
    "def dn(a,b):\n",
    "    diffnum = a - b\n",
    "    print(\"The difference betwween numbers is\", diffnum)"
   ]
  },
  {
   "cell_type": "code",
   "execution_count": 21,
   "id": "9925f437",
   "metadata": {},
   "outputs": [
    {
     "name": "stdout",
     "output_type": "stream",
     "text": [
      "The difference betwween numbers is 8\n"
     ]
    }
   ],
   "source": [
    "dn(10,2)"
   ]
  },
  {
   "cell_type": "code",
   "execution_count": null,
   "id": "da962df7",
   "metadata": {},
   "outputs": [],
   "source": [
    "## Range function : Generate sequence of numbers fom a list \n",
    "\n",
    "# Syntax \n",
    "range (start, stop, step)"
   ]
  },
  {
   "cell_type": "code",
   "execution_count": 26,
   "id": "a0e3ed9c",
   "metadata": {},
   "outputs": [
    {
     "data": {
      "text/plain": [
       "[0, 1, 2, 3, 4, 5, 6, 7, 8, 9]"
      ]
     },
     "execution_count": 26,
     "metadata": {},
     "output_type": "execute_result"
    }
   ],
   "source": [
    "list(range(0,10,1))"
   ]
  },
  {
   "cell_type": "code",
   "execution_count": 27,
   "id": "fcde27fe",
   "metadata": {},
   "outputs": [
    {
     "data": {
      "text/plain": [
       "[0, 5, 10, 15, 20, 25, 30, 35, 40, 45, 50]"
      ]
     },
     "execution_count": 27,
     "metadata": {},
     "output_type": "execute_result"
    }
   ],
   "source": [
    "list(range(0,51,5))"
   ]
  },
  {
   "cell_type": "code",
   "execution_count": 42,
   "id": "67b35895",
   "metadata": {},
   "outputs": [
    {
     "name": "stdout",
     "output_type": "stream",
     "text": [
      "50\n"
     ]
    }
   ],
   "source": [
    "## Global variables \n",
    "a = 50       ## Global variable \n",
    "\n",
    "def number():\n",
    "    b = 30\n",
    "    print(b+a)\n",
    "\n",
    "print(a)"
   ]
  },
  {
   "cell_type": "code",
   "execution_count": 43,
   "id": "93465328",
   "metadata": {},
   "outputs": [
    {
     "name": "stdout",
     "output_type": "stream",
     "text": [
      "80\n"
     ]
    }
   ],
   "source": [
    "number()"
   ]
  },
  {
   "cell_type": "code",
   "execution_count": 47,
   "id": "2b13972a",
   "metadata": {},
   "outputs": [],
   "source": [
    "## Local varibales \n",
    "## Global variables \n",
    "a = 50        \n",
    "\n",
    "def number():\n",
    "    b = 30    ## Local variable \n",
    "    print(b)\n",
    "    \n",
    "    print(b)"
   ]
  },
  {
   "cell_type": "code",
   "execution_count": 48,
   "id": "03257479",
   "metadata": {},
   "outputs": [
    {
     "name": "stdout",
     "output_type": "stream",
     "text": [
      "30\n",
      "30\n"
     ]
    }
   ],
   "source": [
    "number()"
   ]
  },
  {
   "cell_type": "code",
   "execution_count": 50,
   "id": "99e16fae",
   "metadata": {},
   "outputs": [],
   "source": [
    "## Lamda function - Doesnot have name - Anonymous\n",
    "\n",
    "def add(a,b):\n",
    "    return (a+b)"
   ]
  },
  {
   "cell_type": "code",
   "execution_count": 51,
   "id": "bb6a74a0",
   "metadata": {},
   "outputs": [
    {
     "data": {
      "text/plain": [
       "30"
      ]
     },
     "execution_count": 51,
     "metadata": {},
     "output_type": "execute_result"
    }
   ],
   "source": [
    "add(10,20)"
   ]
  },
  {
   "cell_type": "code",
   "execution_count": 54,
   "id": "88652ec8",
   "metadata": {},
   "outputs": [],
   "source": [
    "ad = lambda a,b: a+b"
   ]
  },
  {
   "cell_type": "code",
   "execution_count": 55,
   "id": "bce2948e",
   "metadata": {},
   "outputs": [
    {
     "data": {
      "text/plain": [
       "30"
      ]
     },
     "execution_count": 55,
     "metadata": {},
     "output_type": "execute_result"
    }
   ],
   "source": [
    "ad(10,20)"
   ]
  },
  {
   "cell_type": "code",
   "execution_count": 56,
   "id": "78d788c1",
   "metadata": {},
   "outputs": [
    {
     "data": {
      "text/plain": [
       "[30, -10, 200]"
      ]
     },
     "execution_count": 56,
     "metadata": {},
     "output_type": "execute_result"
    }
   ],
   "source": [
    "ml = lambda a,b: [(a+b),(a-b),(a*b)]\n",
    "ml(10,20)"
   ]
  },
  {
   "cell_type": "code",
   "execution_count": null,
   "id": "fe029740",
   "metadata": {},
   "outputs": [],
   "source": [
    "## Built in functions, Packages & Modules \n",
    "\n",
    "# Mudules - sys, OS, Math, Datetime, Random "
   ]
  },
  {
   "cell_type": "code",
   "execution_count": 59,
   "id": "e3f9f38c",
   "metadata": {},
   "outputs": [
    {
     "name": "stdout",
     "output_type": "stream",
     "text": [
      "['C:\\\\Users\\\\AdmiN\\\\anaconda3\\\\lib\\\\site-packages\\\\ipykernel_launcher.py', '-f', 'C:\\\\Users\\\\AdmiN\\\\AppData\\\\Roaming\\\\jupyter\\\\runtime\\\\kernel-764b5aea-7bab-4949-ab5a-788768c36304.json']\n",
      "3.9.12 (main, Apr  4 2022, 05:22:27) [MSC v.1916 64 bit (AMD64)]\n"
     ]
    }
   ],
   "source": [
    "## Sys module \n",
    "\n",
    "import sys \n",
    "print(sys.argv)\n",
    "print(sys.version)"
   ]
  },
  {
   "cell_type": "code",
   "execution_count": 62,
   "id": "9b46f430",
   "metadata": {},
   "outputs": [
    {
     "name": "stdout",
     "output_type": "stream",
     "text": [
      "C:\\Users\\AdmiN\\Desktop\\EK\\B2_29May\\Python\n",
      "nt\n",
      "environ({'ALLUSERSPROFILE': 'C:\\\\ProgramData', 'APPDATA': 'C:\\\\Users\\\\AdmiN\\\\AppData\\\\Roaming', 'COMMONPROGRAMFILES': 'C:\\\\Program Files\\\\Common Files', 'COMMONPROGRAMFILES(X86)': 'C:\\\\Program Files (x86)\\\\Common Files', 'COMMONPROGRAMW6432': 'C:\\\\Program Files\\\\Common Files', 'COMPUTERNAME': 'DESKTOP-CSAQD8J', 'COMSPEC': 'C:\\\\WINDOWS\\\\system32\\\\cmd.exe', 'DRIVERDATA': 'C:\\\\Windows\\\\System32\\\\Drivers\\\\DriverData', 'HOMEDRIVE': 'C:', 'HOMEPATH': '\\\\Users\\\\AdmiN', 'LOCALAPPDATA': 'C:\\\\Users\\\\AdmiN\\\\AppData\\\\Local', 'LOGONSERVER': '\\\\\\\\DESKTOP-CSAQD8J', 'NUMBER_OF_PROCESSORS': '4', 'ONEDRIVE': 'C:\\\\Users\\\\AdmiN\\\\OneDrive', 'OS': 'Windows_NT', 'PATH': 'C:\\\\Users\\\\AdmiN\\\\anaconda3;C:\\\\Users\\\\AdmiN\\\\anaconda3\\\\Library\\\\mingw-w64\\\\bin;C:\\\\Users\\\\AdmiN\\\\anaconda3\\\\Library\\\\usr\\\\bin;C:\\\\Users\\\\AdmiN\\\\anaconda3\\\\Library\\\\bin;C:\\\\Users\\\\AdmiN\\\\anaconda3\\\\Scripts;C:\\\\WINDOWS\\\\system32;C:\\\\WINDOWS;C:\\\\WINDOWS\\\\System32\\\\Wbem;C:\\\\WINDOWS\\\\System32\\\\WindowsPowerShell\\\\v1.0\\\\;C:\\\\WINDOWS\\\\System32\\\\OpenSSH\\\\;C:\\\\Users\\\\AdmiN\\\\AppData\\\\Local\\\\Programs\\\\Python\\\\Python310\\\\Scripts\\\\;C:\\\\Users\\\\AdmiN\\\\AppData\\\\Local\\\\Programs\\\\Python\\\\Python310\\\\;C:\\\\Users\\\\AdmiN\\\\AppData\\\\Local\\\\Microsoft\\\\WindowsApps;;C:\\\\Users\\\\AdmiN\\\\AppData\\\\Local\\\\Programs\\\\Microsoft VS Code\\\\bin', 'PATHEXT': '.COM;.EXE;.BAT;.CMD;.VBS;.VBE;.JS;.JSE;.WSF;.WSH;.MSC', 'PROCESSOR_ARCHITECTURE': 'AMD64', 'PROCESSOR_IDENTIFIER': 'Intel64 Family 6 Model 142 Stepping 10, GenuineIntel', 'PROCESSOR_LEVEL': '6', 'PROCESSOR_REVISION': '8e0a', 'PROGRAMDATA': 'C:\\\\ProgramData', 'PROGRAMFILES': 'C:\\\\Program Files', 'PROGRAMFILES(X86)': 'C:\\\\Program Files (x86)', 'PROGRAMW6432': 'C:\\\\Program Files', 'PSMODULEPATH': 'C:\\\\WINDOWS\\\\system32\\\\WindowsPowerShell\\\\v1.0\\\\Modules\\\\', 'PUBLIC': 'C:\\\\Users\\\\Public', 'SESSIONNAME': 'Console', 'SYSTEMDRIVE': 'C:', 'SYSTEMROOT': 'C:\\\\WINDOWS', 'TEMP': 'C:\\\\Users\\\\AdmiN\\\\AppData\\\\Local\\\\Temp', 'TMP': 'C:\\\\Users\\\\AdmiN\\\\AppData\\\\Local\\\\Temp', 'USERDOMAIN': 'DESKTOP-CSAQD8J', 'USERDOMAIN_ROAMINGPROFILE': 'DESKTOP-CSAQD8J', 'USERNAME': 'AdmiN', 'USERPROFILE': 'C:\\\\Users\\\\AdmiN', 'WINDIR': 'C:\\\\WINDOWS', 'CONDA_PREFIX': 'C:\\\\Users\\\\AdmiN\\\\anaconda3', 'PYDEVD_USE_FRAME_EVAL': 'NO', 'JPY_INTERRUPT_EVENT': '2204', 'IPY_INTERRUPT_EVENT': '2204', 'JPY_PARENT_PID': '2528', 'TERM': 'xterm-color', 'CLICOLOR': '1', 'PAGER': 'cat', 'GIT_PAGER': 'cat', 'MPLBACKEND': 'module://matplotlib_inline.backend_inline'})\n"
     ]
    }
   ],
   "source": [
    "## OS module \n",
    "import os\n",
    "print(os.getcwd()) ## Current working directory\n",
    "\n",
    "## os.chdir(\"ADDRESS\") - change the directory \n",
    "\n",
    "print(os.name)\n",
    "print(os.environ)"
   ]
  },
  {
   "cell_type": "code",
   "execution_count": 67,
   "id": "d6fb5c4e",
   "metadata": {},
   "outputs": [
    {
     "name": "stdout",
     "output_type": "stream",
     "text": [
      "<method 'time' of 'datetime.datetime' objects>\n",
      "2022-06-12 17:41:09.655270\n"
     ]
    }
   ],
   "source": [
    "## Date time \n",
    "import datetime\n",
    "from datetime import datetime \n",
    "\n",
    "print(datetime.time)\n",
    "print(datetime.now())"
   ]
  },
  {
   "cell_type": "code",
   "execution_count": 201,
   "id": "3c930a25",
   "metadata": {},
   "outputs": [
    {
     "name": "stdout",
     "output_type": "stream",
     "text": [
      "40\n"
     ]
    }
   ],
   "source": [
    "## Random module \n",
    "import random\n",
    "\n",
    "print(random.randrange(0,100,20))"
   ]
  }
 ],
 "metadata": {
  "kernelspec": {
   "display_name": "Python 3 (ipykernel)",
   "language": "python",
   "name": "python3"
  },
  "language_info": {
   "codemirror_mode": {
    "name": "ipython",
    "version": 3
   },
   "file_extension": ".py",
   "mimetype": "text/x-python",
   "name": "python",
   "nbconvert_exporter": "python",
   "pygments_lexer": "ipython3",
   "version": "3.9.12"
  }
 },
 "nbformat": 4,
 "nbformat_minor": 5
}
