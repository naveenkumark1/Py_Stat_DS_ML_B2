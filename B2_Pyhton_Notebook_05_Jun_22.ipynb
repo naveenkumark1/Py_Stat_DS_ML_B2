{
 "cells": [
  {
   "cell_type": "code",
   "execution_count": 11,
   "id": "c4ade542",
   "metadata": {},
   "outputs": [
    {
     "name": "stdout",
     "output_type": "stream",
     "text": [
      "True\n",
      "True\n",
      "False\n"
     ]
    }
   ],
   "source": [
    "## Operators \n",
    "\n",
    "# Logical ( and , or , not ) : Checks for a logical condition\n",
    "\n",
    "print(10 < 50 and 20 < 100)\n",
    "print(10 < 50 or 200 < 100)\n",
    "print(not(10 < 50))"
   ]
  },
  {
   "cell_type": "code",
   "execution_count": 36,
   "id": "e930c3e2",
   "metadata": {},
   "outputs": [
    {
     "name": "stdout",
     "output_type": "stream",
     "text": [
      "True\n",
      "False\n",
      "True\n",
      "2680405773760\n",
      "2680405646016\n",
      "2680405773760\n"
     ]
    }
   ],
   "source": [
    "# Identity : Check if they are same objects or not - Memory location ( is and isnot)\n",
    "\n",
    "a = [1,2,3]\n",
    "b = [1,2,3]\n",
    "c = a\n",
    "\n",
    "print(a is c)\n",
    "\n",
    "print(a is b)\n",
    "\n",
    "print(a==b)\n",
    "\n",
    "print(id(a))\n",
    "print(id(b))\n",
    "print(id(c))"
   ]
  },
  {
   "cell_type": "code",
   "execution_count": 40,
   "id": "4a32035b",
   "metadata": {},
   "outputs": [
    {
     "name": "stdout",
     "output_type": "stream",
     "text": [
      "True\n",
      "False\n"
     ]
    }
   ],
   "source": [
    "# Membership ( in and not in) check if a sequence is present in an object\n",
    "\n",
    "a = [1,2,3,4,5,6,7,8]\n",
    "\n",
    "print(3 in a)\n",
    "print( 3 not in a)\n"
   ]
  },
  {
   "cell_type": "code",
   "execution_count": 41,
   "id": "d6d52fb9",
   "metadata": {},
   "outputs": [],
   "source": [
    "## Varibales \n",
    "\n",
    "a = 10"
   ]
  },
  {
   "cell_type": "code",
   "execution_count": 45,
   "id": "a22065bb",
   "metadata": {},
   "outputs": [
    {
     "name": "stdout",
     "output_type": "stream",
     "text": [
      "<class 'int'>\n",
      "<class 'float'>\n",
      "<class 'complex'>\n"
     ]
    }
   ],
   "source": [
    "## Number \n",
    "\n",
    "print(type(10))\n",
    "print(type(10.123))\n",
    "print(type(10+23j))\n"
   ]
  },
  {
   "cell_type": "code",
   "execution_count": 47,
   "id": "c6653c4c",
   "metadata": {},
   "outputs": [
    {
     "name": "stdout",
     "output_type": "stream",
     "text": [
      "<class 'str'>\n",
      "<class 'str'>\n",
      "<class 'str'>\n"
     ]
    }
   ],
   "source": [
    "# Strings : Anything within \"\" or '' is a string \n",
    "\n",
    "print(type('1234'))\n",
    "print(type('@@##'))\n",
    "print(type('India'))"
   ]
  },
  {
   "cell_type": "code",
   "execution_count": 49,
   "id": "0a8d67f4",
   "metadata": {},
   "outputs": [
    {
     "name": "stdout",
     "output_type": "stream",
     "text": [
      "<class 'int'>\n",
      "<class 'float'>\n",
      "<class 'str'>\n"
     ]
    }
   ],
   "source": [
    "## Create 3 varibale assign a integer, float and string to them and check their type\n",
    "\n",
    "a = 1\n",
    "b = 10.2\n",
    "c =\"India\"\n",
    "\n",
    "print(type(a))\n",
    "print(type(b))\n",
    "print(type(c))"
   ]
  },
  {
   "cell_type": "code",
   "execution_count": 52,
   "id": "b7f38cb5",
   "metadata": {},
   "outputs": [
    {
     "name": "stdout",
     "output_type": "stream",
     "text": [
      "[1, 2, 3]\n",
      "<class 'list'>\n"
     ]
    }
   ],
   "source": [
    "## List : Mutable\n",
    "\n",
    "a = [1,2,3]\n",
    "print(a)\n",
    "print(type(a))"
   ]
  },
  {
   "cell_type": "code",
   "execution_count": 53,
   "id": "4fbad001",
   "metadata": {},
   "outputs": [
    {
     "name": "stdout",
     "output_type": "stream",
     "text": [
      "(1, 2, 3)\n",
      "<class 'tuple'>\n"
     ]
    }
   ],
   "source": [
    "## Tuple : Immutable\n",
    "\n",
    "a = (1,2,3)\n",
    "print(a)\n",
    "print(type(a))"
   ]
  },
  {
   "cell_type": "code",
   "execution_count": 55,
   "id": "8e54ed54",
   "metadata": {},
   "outputs": [
    {
     "name": "stdout",
     "output_type": "stream",
     "text": [
      "{1, 2, 3, 4, 20, 10}\n",
      "<class 'set'>\n"
     ]
    }
   ],
   "source": [
    "## Set : Unordered and no duplicates : Immutable : No indexing\n",
    "\n",
    "a = {10,20,1,2,3,4,4,4,4,4,}\n",
    "print(a)\n",
    "print(type(a))"
   ]
  },
  {
   "cell_type": "code",
   "execution_count": 60,
   "id": "0d585a59",
   "metadata": {},
   "outputs": [
    {
     "name": "stdout",
     "output_type": "stream",
     "text": [
      "{'a': 10, 'b': 20, 'c': 30}\n",
      "<class 'dict'>\n",
      "dict_keys(['a', 'b', 'c'])\n",
      "dict_values([10, 20, 30])\n"
     ]
    }
   ],
   "source": [
    "## Dictionary : Key value pair \n",
    "\n",
    "a = {'a':10,'b':20,'c':30}\n",
    "print(a)\n",
    "print(type(a))\n",
    "\n",
    "print(a.keys())\n",
    "print(a.values())"
   ]
  },
  {
   "cell_type": "code",
   "execution_count": 68,
   "id": "08b32948",
   "metadata": {},
   "outputs": [
    {
     "name": "stdout",
     "output_type": "stream",
     "text": [
      "['I', 'N', 'D']\n",
      "['I', 'N', 'D']\n",
      "['D', 'I', 'A']\n",
      "['D', 'I', 'A']\n",
      "['N', 'D', 'I', 'A', 'N']\n",
      "['N', 'D', 'I', 'A', 'N']\n",
      "['N', 'D', 'I']\n",
      "['N', 'D', 'I']\n"
     ]
    }
   ],
   "source": [
    "## Indexing \n",
    "\n",
    "a = ['I','N','D','I','A','N']\n",
    "\n",
    "#IND\n",
    "print(a[0:3])\n",
    "print(a[-6:-3])\n",
    "\n",
    "#DIA\n",
    "print(a[2:5])\n",
    "print(a[-4:-1])\n",
    "\n",
    "#NDIAN\n",
    "print(a[1:])\n",
    "print(a[-5:])\n",
    "\n",
    "#NDI\n",
    "print(a[1:4])\n",
    "print(a[-5:-2])"
   ]
  },
  {
   "cell_type": "code",
   "execution_count": 72,
   "id": "9ea10106",
   "metadata": {},
   "outputs": [
    {
     "name": "stdout",
     "output_type": "stream",
     "text": [
      "30\n",
      "30\n",
      "[10, 20, 345, 40]\n"
     ]
    },
    {
     "ename": "TypeError",
     "evalue": "'tuple' object does not support item assignment",
     "output_type": "error",
     "traceback": [
      "\u001b[1;31m---------------------------------------------------------------------------\u001b[0m",
      "\u001b[1;31mTypeError\u001b[0m                                 Traceback (most recent call last)",
      "Input \u001b[1;32mIn [72]\u001b[0m, in \u001b[0;36m<cell line: 13>\u001b[1;34m()\u001b[0m\n\u001b[0;32m     10\u001b[0m a[\u001b[38;5;241m2\u001b[39m]\u001b[38;5;241m=\u001b[39m\u001b[38;5;241m345\u001b[39m\n\u001b[0;32m     11\u001b[0m \u001b[38;5;28mprint\u001b[39m(a)\n\u001b[1;32m---> 13\u001b[0m b[\u001b[38;5;241m2\u001b[39m]\u001b[38;5;241m=\u001b[39m\u001b[38;5;241m345\u001b[39m\n\u001b[0;32m     14\u001b[0m \u001b[38;5;28mprint\u001b[39m(b)\n",
      "\u001b[1;31mTypeError\u001b[0m: 'tuple' object does not support item assignment"
     ]
    }
   ],
   "source": [
    "## Simple mutablility & immutability \n",
    "\n",
    "a = [10,20,30,40]\n",
    "\n",
    "b = (10,20,30,40)\n",
    "\n",
    "print(a[2])\n",
    "print(b[2])\n",
    "\n",
    "a[2]=345\n",
    "print(a)\n",
    "\n",
    "b[2]=345\n",
    "print(b)"
   ]
  },
  {
   "cell_type": "code",
   "execution_count": null,
   "id": "5746cb05",
   "metadata": {},
   "outputs": [],
   "source": []
  }
 ],
 "metadata": {
  "kernelspec": {
   "display_name": "Python 3 (ipykernel)",
   "language": "python",
   "name": "python3"
  },
  "language_info": {
   "codemirror_mode": {
    "name": "ipython",
    "version": 3
   },
   "file_extension": ".py",
   "mimetype": "text/x-python",
   "name": "python",
   "nbconvert_exporter": "python",
   "pygments_lexer": "ipython3",
   "version": "3.9.12"
  }
 },
 "nbformat": 4,
 "nbformat_minor": 5
}
