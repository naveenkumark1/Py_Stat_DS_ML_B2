{
 "cells": [
  {
   "cell_type": "code",
   "execution_count": 70,
   "id": "ca24f1fc",
   "metadata": {},
   "outputs": [],
   "source": [
    "## Comment "
   ]
  },
  {
   "cell_type": "code",
   "execution_count": 84,
   "id": "ec355f1b",
   "metadata": {},
   "outputs": [
    {
     "ename": "SyntaxError",
     "evalue": "invalid syntax (2585744815.py, line 3)",
     "output_type": "error",
     "traceback": [
      "\u001b[1;36m  Input \u001b[1;32mIn [84]\u001b[1;36m\u001b[0m\n\u001b[1;33m    $N123ame = 10\u001b[0m\n\u001b[1;37m    ^\u001b[0m\n\u001b[1;31mSyntaxError\u001b[0m\u001b[1;31m:\u001b[0m invalid syntax\n"
     ]
    }
   ],
   "source": [
    "# Keywords and identifiers\n",
    "\n",
    "$N123ame = 10\n",
    "print(N123ame)\n",
    "\n",
    "_ Name = 10\n",
    "print(_Name)\n",
    "\n",
    "123N123 = 10\n",
    "\n"
   ]
  },
  {
   "cell_type": "code",
   "execution_count": null,
   "id": "2b75ec37",
   "metadata": {},
   "outputs": [],
   "source": [
    "## Operators in python "
   ]
  },
  {
   "cell_type": "code",
   "execution_count": 86,
   "id": "2adadfaf",
   "metadata": {},
   "outputs": [
    {
     "name": "stdout",
     "output_type": "stream",
     "text": [
      "15\n",
      "5\n",
      "50\n",
      "2.0\n",
      "0\n",
      "100000\n"
     ]
    }
   ],
   "source": [
    "# Arithmetic operators \n",
    "\n",
    "print(10+5)\n",
    "print(10-5)\n",
    "print(10*5)\n",
    "print(10/5)\n",
    "print(10%5)  # Modulus - remainder \n",
    "print(10**5)  # e to the power"
   ]
  },
  {
   "cell_type": "code",
   "execution_count": 91,
   "id": "769b675f",
   "metadata": {},
   "outputs": [
    {
     "name": "stdout",
     "output_type": "stream",
     "text": [
      "10\n",
      "20\n",
      "10\n",
      "100\n",
      "10.0\n",
      "0.0\n"
     ]
    }
   ],
   "source": [
    "# Assignment operators \n",
    "a = 10\n",
    "print(a)\n",
    "\n",
    "a += 10   # a = a+10\n",
    "print(a)\n",
    "\n",
    "a -= 10   # a = a-10\n",
    "print(a)\n",
    "\n",
    "a *= 10   \n",
    "print(a)\n",
    "\n",
    "a /= 10   \n",
    "print(a)\n",
    "\n",
    "a %= 10   # a = a%10\n",
    "print(a)\n"
   ]
  },
  {
   "cell_type": "code",
   "execution_count": 95,
   "id": "b14b529d",
   "metadata": {},
   "outputs": [
    {
     "name": "stdout",
     "output_type": "stream",
     "text": [
      "False\n",
      "True\n",
      "False\n",
      "True\n",
      "False\n",
      "True\n",
      "False\n"
     ]
    }
   ],
   "source": [
    "# Comparison operators \n",
    "\n",
    "print(10 == 20)\n",
    "print(10 != 20)\n",
    "print(10 > 20)\n",
    "print(10 < 20)\n",
    "print(10 >= 20)\n",
    "print(10 <= 20)\n",
    "\n",
    "a = (10==20)\n",
    "print(a)"
   ]
  },
  {
   "cell_type": "code",
   "execution_count": null,
   "id": "86095282",
   "metadata": {},
   "outputs": [],
   "source": []
  },
  {
   "cell_type": "code",
   "execution_count": null,
   "id": "3c1c02ba",
   "metadata": {},
   "outputs": [],
   "source": []
  }
 ],
 "metadata": {
  "kernelspec": {
   "display_name": "Python 3 (ipykernel)",
   "language": "python",
   "name": "python3"
  },
  "language_info": {
   "codemirror_mode": {
    "name": "ipython",
    "version": 3
   },
   "file_extension": ".py",
   "mimetype": "text/x-python",
   "name": "python",
   "nbconvert_exporter": "python",
   "pygments_lexer": "ipython3",
   "version": "3.9.12"
  }
 },
 "nbformat": 4,
 "nbformat_minor": 5
}
